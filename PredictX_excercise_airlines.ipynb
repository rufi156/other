{
 "cells": [
  {
   "cell_type": "code",
   "execution_count": 6,
   "metadata": {},
   "outputs": [],
   "source": [
    "import pandas as pd\n",
    "import seaborn as sns\n",
    "import matplotlib as plt"
   ]
  },
  {
   "cell_type": "code",
   "execution_count": 3,
   "metadata": {},
   "outputs": [],
   "source": [
    "df = pd.read_csv('Flight Distance Test.csv')"
   ]
  },
  {
   "cell_type": "code",
   "execution_count": 4,
   "metadata": {},
   "outputs": [
    {
     "name": "stdout",
     "output_type": "stream",
     "text": [
      "<class 'pandas.core.frame.DataFrame'>\n",
      "RangeIndex: 3000 entries, 0 to 2999\n",
      "Data columns (total 7 columns):\n",
      " #   Column                Non-Null Count  Dtype  \n",
      "---  ------                --------------  -----  \n",
      " 0   Normalised City Pair  3000 non-null   object \n",
      " 1   Departure Code        3000 non-null   object \n",
      " 2   Arrival Code          3000 non-null   object \n",
      " 3   Departure_lat         3000 non-null   float64\n",
      " 4   Departure_lon         3000 non-null   float64\n",
      " 5   Arrival_lat           3000 non-null   float64\n",
      " 6   Arrival_lon           3000 non-null   float64\n",
      "dtypes: float64(4), object(3)\n",
      "memory usage: 164.2+ KB\n"
     ]
    }
   ],
   "source": [
    "df.info()"
   ]
  },
  {
   "cell_type": "markdown",
   "metadata": {},
   "source": [
    "Data seems to be organised and cleaned (no nulls, redundant features, unusably typed features etc.) and in sufficient amount for analysis. "
   ]
  },
  {
   "cell_type": "code",
   "execution_count": 5,
   "metadata": {},
   "outputs": [
    {
     "data": {
      "text/html": [
       "<div>\n",
       "<style scoped>\n",
       "    .dataframe tbody tr th:only-of-type {\n",
       "        vertical-align: middle;\n",
       "    }\n",
       "\n",
       "    .dataframe tbody tr th {\n",
       "        vertical-align: top;\n",
       "    }\n",
       "\n",
       "    .dataframe thead th {\n",
       "        text-align: right;\n",
       "    }\n",
       "</style>\n",
       "<table border=\"1\" class=\"dataframe\">\n",
       "  <thead>\n",
       "    <tr style=\"text-align: right;\">\n",
       "      <th></th>\n",
       "      <th>Normalised City Pair</th>\n",
       "      <th>Departure Code</th>\n",
       "      <th>Arrival Code</th>\n",
       "      <th>Departure_lat</th>\n",
       "      <th>Departure_lon</th>\n",
       "      <th>Arrival_lat</th>\n",
       "      <th>Arrival_lon</th>\n",
       "    </tr>\n",
       "  </thead>\n",
       "  <tbody>\n",
       "    <tr>\n",
       "      <th>0</th>\n",
       "      <td>London, United Kingdom - New York, United Stat...</td>\n",
       "      <td>LHR</td>\n",
       "      <td>JFK</td>\n",
       "      <td>51.5</td>\n",
       "      <td>-0.45</td>\n",
       "      <td>40.64</td>\n",
       "      <td>-73.79</td>\n",
       "    </tr>\n",
       "    <tr>\n",
       "      <th>1</th>\n",
       "      <td>Johannesburg, South Africa - London, United Ki...</td>\n",
       "      <td>JNB</td>\n",
       "      <td>LHR</td>\n",
       "      <td>-26.1</td>\n",
       "      <td>28.23</td>\n",
       "      <td>51.47</td>\n",
       "      <td>-0.45</td>\n",
       "    </tr>\n",
       "    <tr>\n",
       "      <th>2</th>\n",
       "      <td>London, United Kingdom - New York, United Stat...</td>\n",
       "      <td>LHR</td>\n",
       "      <td>JFK</td>\n",
       "      <td>51.5</td>\n",
       "      <td>-0.45</td>\n",
       "      <td>40.64</td>\n",
       "      <td>-73.79</td>\n",
       "    </tr>\n",
       "    <tr>\n",
       "      <th>3</th>\n",
       "      <td>Johannesburg, South Africa - London, United Ki...</td>\n",
       "      <td>JNB</td>\n",
       "      <td>LHR</td>\n",
       "      <td>-26.1</td>\n",
       "      <td>28.23</td>\n",
       "      <td>51.47</td>\n",
       "      <td>-0.45</td>\n",
       "    </tr>\n",
       "    <tr>\n",
       "      <th>4</th>\n",
       "      <td>London, United Kingdom - Singapore, Singapore</td>\n",
       "      <td>SIN</td>\n",
       "      <td>LHR</td>\n",
       "      <td>1.3</td>\n",
       "      <td>103.98</td>\n",
       "      <td>51.47</td>\n",
       "      <td>-0.45</td>\n",
       "    </tr>\n",
       "  </tbody>\n",
       "</table>\n",
       "</div>"
      ],
      "text/plain": [
       "                                Normalised City Pair Departure Code  \\\n",
       "0  London, United Kingdom - New York, United Stat...            LHR   \n",
       "1  Johannesburg, South Africa - London, United Ki...            JNB   \n",
       "2  London, United Kingdom - New York, United Stat...            LHR   \n",
       "3  Johannesburg, South Africa - London, United Ki...            JNB   \n",
       "4      London, United Kingdom - Singapore, Singapore            SIN   \n",
       "\n",
       "  Arrival Code  Departure_lat  Departure_lon  Arrival_lat  Arrival_lon  \n",
       "0          JFK           51.5          -0.45        40.64       -73.79  \n",
       "1          LHR          -26.1          28.23        51.47        -0.45  \n",
       "2          JFK           51.5          -0.45        40.64       -73.79  \n",
       "3          LHR          -26.1          28.23        51.47        -0.45  \n",
       "4          LHR            1.3         103.98        51.47        -0.45  "
      ]
     },
     "execution_count": 5,
     "metadata": {},
     "output_type": "execute_result"
    }
   ],
   "source": [
    "df.head()"
   ]
  },
  {
   "cell_type": "code",
   "execution_count": 7,
   "metadata": {},
   "outputs": [
    {
     "data": {
      "text/plain": [
       "1602"
      ]
     },
     "execution_count": 7,
     "metadata": {},
     "output_type": "execute_result"
    }
   ],
   "source": [
    "df['Normalised City Pair'].nunique()"
   ]
  },
  {
   "cell_type": "code",
   "execution_count": 8,
   "metadata": {},
   "outputs": [
    {
     "data": {
      "text/plain": [
       "301"
      ]
     },
     "execution_count": 8,
     "metadata": {},
     "output_type": "execute_result"
    }
   ],
   "source": [
    "df['Departure Code'].nunique()"
   ]
  },
  {
   "cell_type": "code",
   "execution_count": 167,
   "metadata": {},
   "outputs": [
    {
     "data": {
      "text/plain": [
       "341"
      ]
     },
     "execution_count": 167,
     "metadata": {},
     "output_type": "execute_result"
    }
   ],
   "source": [
    "df['Arrival Code'].nunique()"
   ]
  },
  {
   "cell_type": "code",
   "execution_count": 166,
   "metadata": {},
   "outputs": [
    {
     "data": {
      "text/plain": [
       "London, United Kingdom - New York, United States Of America                      24\n",
       "Hong Kong, Hong Kong - Singapore, Singapore                                      17\n",
       "Hong Kong, Hong Kong - Tokyo, Japan                                              16\n",
       "Edinburgh, United Kingdom - London, United Kingdom                               15\n",
       "Boston, United States Of America - New York, United States Of America            15\n",
       "                                                                                 ..\n",
       "San Jose, United States Of America - Santa Ana, United States Of America          1\n",
       "Detroit, United States Of America - Philadelphia, United States Of America        1\n",
       "Atlanta, United States Of America - Charlotte, United States Of America           1\n",
       "Newark, United States Of America - Oslo, Norway                                   1\n",
       "Chicago, United States Of America - West Palm Beach, United States Of America     1\n",
       "Name: Normalised City Pair, Length: 1602, dtype: int64"
      ]
     },
     "execution_count": 166,
     "metadata": {},
     "output_type": "execute_result"
    }
   ],
   "source": [
    "df['Normalised City Pair'].value_counts()\n",
    "#Most frequent travel route"
   ]
  },
  {
   "cell_type": "code",
   "execution_count": 164,
   "metadata": {},
   "outputs": [
    {
     "data": {
      "text/plain": [
       "LHR    238\n",
       "SIN    121\n",
       "JFK    114\n",
       "DXB     99\n",
       "HKG     98\n",
       "      ... \n",
       "BHM      1\n",
       "ORK      1\n",
       "BGO      1\n",
       "YWG      1\n",
       "GOA      1\n",
       "Name: Departure Code, Length: 301, dtype: int64"
      ]
     },
     "execution_count": 164,
     "metadata": {},
     "output_type": "execute_result"
    }
   ],
   "source": [
    "df['Departure Code'].value_counts()\n",
    "#Most frequent airports traveled from."
   ]
  },
  {
   "cell_type": "code",
   "execution_count": 165,
   "metadata": {},
   "outputs": [
    {
     "data": {
      "text/plain": [
       "LHR    199\n",
       "JFK    130\n",
       "SIN    100\n",
       "DXB     80\n",
       "HKG     78\n",
       "      ... \n",
       "BLQ      1\n",
       "MIL      1\n",
       "CID      1\n",
       "LJU      1\n",
       "ANR      1\n",
       "Name: Arrival Code, Length: 341, dtype: int64"
      ]
     },
     "execution_count": 165,
     "metadata": {},
     "output_type": "execute_result"
    }
   ],
   "source": [
    "df['Arrival Code'].value_counts()\n",
    "#Most frequent destinations"
   ]
  },
  {
   "cell_type": "markdown",
   "metadata": {},
   "source": [
    "I will now analyse the dataset looking for any discrepancies within it. Knowing that there are some problems with it, at first glance I'd guess that there might either be a problem with same entries being repeated or some kind of mismatch between airports and their geolocation. I will, however approach the dataset as if it was bigger and less structured, meticulously testing each possibility for errors."
   ]
  },
  {
   "cell_type": "markdown",
   "metadata": {},
   "source": [
    "Possible data error sources:\n",
    "1. Nulls\n",
    "2. Does dep_code == arr_code anywhere?\n",
    "3. Does dep_code and arr_code always correspond to the same part of norm_city_pair?\n",
    "4. Does certain lat,lon always correspond to the same departure airport?\n",
    "5. Does certain lat,lon always correspond to the same arrival airport?"
   ]
  },
  {
   "cell_type": "code",
   "execution_count": 14,
   "metadata": {},
   "outputs": [
    {
     "data": {
      "text/plain": [
       "Normalised City Pair    0\n",
       "Departure Code          0\n",
       "Arrival Code            0\n",
       "Departure_lat           0\n",
       "Departure_lon           0\n",
       "Arrival_lat             0\n",
       "Arrival_lon             0\n",
       "dtype: int64"
      ]
     },
     "execution_count": 14,
     "metadata": {},
     "output_type": "execute_result"
    }
   ],
   "source": [
    "df.isnull().sum()"
   ]
  },
  {
   "cell_type": "markdown",
   "metadata": {},
   "source": [
    "No null values"
   ]
  },
  {
   "cell_type": "code",
   "execution_count": 11,
   "metadata": {},
   "outputs": [
    {
     "data": {
      "text/plain": [
       "3"
      ]
     },
     "execution_count": 11,
     "metadata": {},
     "output_type": "execute_result"
    }
   ],
   "source": [
    "(df['Departure Code'] == df['Arrival Code']).sum()"
   ]
  },
  {
   "cell_type": "markdown",
   "metadata": {},
   "source": [
    "There seem to be some flights that start and end at the same location"
   ]
  },
  {
   "cell_type": "code",
   "execution_count": 12,
   "metadata": {},
   "outputs": [
    {
     "data": {
      "text/html": [
       "<div>\n",
       "<style scoped>\n",
       "    .dataframe tbody tr th:only-of-type {\n",
       "        vertical-align: middle;\n",
       "    }\n",
       "\n",
       "    .dataframe tbody tr th {\n",
       "        vertical-align: top;\n",
       "    }\n",
       "\n",
       "    .dataframe thead th {\n",
       "        text-align: right;\n",
       "    }\n",
       "</style>\n",
       "<table border=\"1\" class=\"dataframe\">\n",
       "  <thead>\n",
       "    <tr style=\"text-align: right;\">\n",
       "      <th></th>\n",
       "      <th>Normalised City Pair</th>\n",
       "      <th>Departure Code</th>\n",
       "      <th>Arrival Code</th>\n",
       "      <th>Departure_lat</th>\n",
       "      <th>Departure_lon</th>\n",
       "      <th>Arrival_lat</th>\n",
       "      <th>Arrival_lon</th>\n",
       "    </tr>\n",
       "  </thead>\n",
       "  <tbody>\n",
       "    <tr>\n",
       "      <th>448</th>\n",
       "      <td>Madrid, Spain - Madrid, Spain</td>\n",
       "      <td>MAD</td>\n",
       "      <td>MAD</td>\n",
       "      <td>51.5</td>\n",
       "      <td>-0.45</td>\n",
       "      <td>40.46</td>\n",
       "      <td>-3.58</td>\n",
       "    </tr>\n",
       "    <tr>\n",
       "      <th>1769</th>\n",
       "      <td>Sao Paulo, Brazil - Sao Paulo, Brazil</td>\n",
       "      <td>CGH</td>\n",
       "      <td>CGH</td>\n",
       "      <td>-22.9</td>\n",
       "      <td>-43.17</td>\n",
       "      <td>-23.63</td>\n",
       "      <td>-46.66</td>\n",
       "    </tr>\n",
       "    <tr>\n",
       "      <th>1978</th>\n",
       "      <td>Dubai, United Arab Emirates - Dubai, United Ar...</td>\n",
       "      <td>DXB</td>\n",
       "      <td>DXB</td>\n",
       "      <td>23.6</td>\n",
       "      <td>58.29</td>\n",
       "      <td>25.25</td>\n",
       "      <td>55.35</td>\n",
       "    </tr>\n",
       "  </tbody>\n",
       "</table>\n",
       "</div>"
      ],
      "text/plain": [
       "                                   Normalised City Pair Departure Code  \\\n",
       "448                       Madrid, Spain - Madrid, Spain            MAD   \n",
       "1769              Sao Paulo, Brazil - Sao Paulo, Brazil            CGH   \n",
       "1978  Dubai, United Arab Emirates - Dubai, United Ar...            DXB   \n",
       "\n",
       "     Arrival Code  Departure_lat  Departure_lon  Arrival_lat  Arrival_lon  \n",
       "448           MAD           51.5          -0.45        40.46        -3.58  \n",
       "1769          CGH          -22.9         -43.17       -23.63       -46.66  \n",
       "1978          DXB           23.6          58.29        25.25        55.35  "
      ]
     },
     "execution_count": 12,
     "metadata": {},
     "output_type": "execute_result"
    }
   ],
   "source": [
    "df[df['Departure Code'] == df['Arrival Code']]"
   ]
  },
  {
   "cell_type": "markdown",
   "metadata": {},
   "source": [
    "Those 3 enries seem to either be a data error, departure problems (maybe the plane was called back to land), or there are multiple airports with the same code."
   ]
  },
  {
   "cell_type": "code",
   "execution_count": 25,
   "metadata": {},
   "outputs": [
    {
     "data": {
      "text/plain": [
       "Departure Code\n",
       "ABQ     2\n",
       "ABZ     2\n",
       "ACC    11\n",
       "ACK     1\n",
       "AGP     1\n",
       "       ..\n",
       "YWG     1\n",
       "YYC    12\n",
       "YYZ    28\n",
       "ZAG     1\n",
       "ZRH    43\n",
       "Name: Normalised City Pair, Length: 301, dtype: int64"
      ]
     },
     "execution_count": 25,
     "metadata": {},
     "output_type": "execute_result"
    }
   ],
   "source": [
    "df.groupby('Departure Code')['Normalised City Pair'].count()"
   ]
  },
  {
   "cell_type": "code",
   "execution_count": 26,
   "metadata": {},
   "outputs": [
    {
     "data": {
      "text/plain": [
       "Departure Code\n",
       "ABQ     2\n",
       "ABZ     1\n",
       "ACC     9\n",
       "ACK     1\n",
       "AGP     1\n",
       "       ..\n",
       "YWG     1\n",
       "YYC    10\n",
       "YYZ    22\n",
       "ZAG     1\n",
       "ZRH    23\n",
       "Name: Normalised City Pair, Length: 301, dtype: int64"
      ]
     },
     "execution_count": 26,
     "metadata": {},
     "output_type": "execute_result"
    }
   ],
   "source": [
    "df.groupby('Departure Code')['Normalised City Pair'].nunique()"
   ]
  },
  {
   "cell_type": "code",
   "execution_count": 18,
   "metadata": {},
   "outputs": [
    {
     "data": {
      "text/plain": [
       "301"
      ]
     },
     "execution_count": 18,
     "metadata": {},
     "output_type": "execute_result"
    }
   ],
   "source": [
    "df['Departure Code'].nunique()"
   ]
  },
  {
   "cell_type": "code",
   "execution_count": 27,
   "metadata": {},
   "outputs": [],
   "source": [
    "#Im looking for a way to find if norm_city_pair correctly corresponds with dep and arr codes"
   ]
  },
  {
   "cell_type": "code",
   "execution_count": 74,
   "metadata": {},
   "outputs": [
    {
     "data": {
      "text/plain": [
       "145          [Accra, Ghana ,  Johannesburg, South Africa]\n",
       "489                      [Accra, Ghana ,  Nairobi, Kenya]\n",
       "876                      [Accra, Ghana ,  Nairobi, Kenya]\n",
       "890                      [Accra, Ghana ,  Nairobi, Kenya]\n",
       "1318             [Accra, Ghana ,  London, United Kingdom]\n",
       "1332    [Accra, Ghana ,  Dar Es Salaam, United Rep. Of...\n",
       "1885            [Accra, Ghana ,  Entebbe/kampala, Uganda]\n",
       "2307    [Accra, Ghana ,  New York, United States Of Am...\n",
       "2701               [Accra, Ghana ,  Mauritius, Mauritius]\n",
       "2768                     [Accra, Ghana ,  Lusaka, Zambia]\n",
       "2954                 [Accra, Ghana ,  Gaborone, Botswana]\n",
       "Name: Normalised City Pair, dtype: object"
      ]
     },
     "execution_count": 74,
     "metadata": {},
     "output_type": "execute_result"
    }
   ],
   "source": [
    "df['Normalised City Pair'][df['Departure Code'] == 'ACC'].apply(lambda x: x.split('-'))"
   ]
  },
  {
   "cell_type": "code",
   "execution_count": 38,
   "metadata": {},
   "outputs": [
    {
     "data": {
      "text/html": [
       "<div>\n",
       "<style scoped>\n",
       "    .dataframe tbody tr th:only-of-type {\n",
       "        vertical-align: middle;\n",
       "    }\n",
       "\n",
       "    .dataframe tbody tr th {\n",
       "        vertical-align: top;\n",
       "    }\n",
       "\n",
       "    .dataframe thead th {\n",
       "        text-align: right;\n",
       "    }\n",
       "</style>\n",
       "<table border=\"1\" class=\"dataframe\">\n",
       "  <thead>\n",
       "    <tr style=\"text-align: right;\">\n",
       "      <th></th>\n",
       "      <th>count</th>\n",
       "      <th>unique</th>\n",
       "      <th>top</th>\n",
       "      <th>freq</th>\n",
       "    </tr>\n",
       "    <tr>\n",
       "      <th>Departure Code</th>\n",
       "      <th></th>\n",
       "      <th></th>\n",
       "      <th></th>\n",
       "      <th></th>\n",
       "    </tr>\n",
       "  </thead>\n",
       "  <tbody>\n",
       "    <tr>\n",
       "      <th>ABQ</th>\n",
       "      <td>2</td>\n",
       "      <td>2</td>\n",
       "      <td>Albuquerque, United States Of America - San Fr...</td>\n",
       "      <td>1</td>\n",
       "    </tr>\n",
       "    <tr>\n",
       "      <th>ABZ</th>\n",
       "      <td>2</td>\n",
       "      <td>1</td>\n",
       "      <td>Aberdeen, United Kingdom - London, United Kingdom</td>\n",
       "      <td>2</td>\n",
       "    </tr>\n",
       "    <tr>\n",
       "      <th>ACC</th>\n",
       "      <td>11</td>\n",
       "      <td>9</td>\n",
       "      <td>Accra, Ghana - Nairobi, Kenya</td>\n",
       "      <td>3</td>\n",
       "    </tr>\n",
       "    <tr>\n",
       "      <th>ACK</th>\n",
       "      <td>1</td>\n",
       "      <td>1</td>\n",
       "      <td>Nantucket, United States Of America - New York...</td>\n",
       "      <td>1</td>\n",
       "    </tr>\n",
       "    <tr>\n",
       "      <th>AGP</th>\n",
       "      <td>1</td>\n",
       "      <td>1</td>\n",
       "      <td>London, United Kingdom - Malaga, Spain</td>\n",
       "      <td>1</td>\n",
       "    </tr>\n",
       "    <tr>\n",
       "      <th>...</th>\n",
       "      <td>...</td>\n",
       "      <td>...</td>\n",
       "      <td>...</td>\n",
       "      <td>...</td>\n",
       "    </tr>\n",
       "    <tr>\n",
       "      <th>YWG</th>\n",
       "      <td>1</td>\n",
       "      <td>1</td>\n",
       "      <td>Vancouver, Canada - Winnipeg, Canada</td>\n",
       "      <td>1</td>\n",
       "    </tr>\n",
       "    <tr>\n",
       "      <th>YYC</th>\n",
       "      <td>12</td>\n",
       "      <td>10</td>\n",
       "      <td>Calgary, Canada - Vancouver, Canada</td>\n",
       "      <td>2</td>\n",
       "    </tr>\n",
       "    <tr>\n",
       "      <th>YYZ</th>\n",
       "      <td>28</td>\n",
       "      <td>22</td>\n",
       "      <td>New York, United States Of America - Toronto, ...</td>\n",
       "      <td>4</td>\n",
       "    </tr>\n",
       "    <tr>\n",
       "      <th>ZAG</th>\n",
       "      <td>1</td>\n",
       "      <td>1</td>\n",
       "      <td>London, United Kingdom - Zagreb, Croatia</td>\n",
       "      <td>1</td>\n",
       "    </tr>\n",
       "    <tr>\n",
       "      <th>ZRH</th>\n",
       "      <td>43</td>\n",
       "      <td>23</td>\n",
       "      <td>Geneva, Switzerland - Zurich, Switzerland</td>\n",
       "      <td>5</td>\n",
       "    </tr>\n",
       "  </tbody>\n",
       "</table>\n",
       "<p>301 rows × 4 columns</p>\n",
       "</div>"
      ],
      "text/plain": [
       "               count unique  \\\n",
       "Departure Code                \n",
       "ABQ                2      2   \n",
       "ABZ                2      1   \n",
       "ACC               11      9   \n",
       "ACK                1      1   \n",
       "AGP                1      1   \n",
       "...              ...    ...   \n",
       "YWG                1      1   \n",
       "YYC               12     10   \n",
       "YYZ               28     22   \n",
       "ZAG                1      1   \n",
       "ZRH               43     23   \n",
       "\n",
       "                                                              top freq  \n",
       "Departure Code                                                          \n",
       "ABQ             Albuquerque, United States Of America - San Fr...    1  \n",
       "ABZ             Aberdeen, United Kingdom - London, United Kingdom    2  \n",
       "ACC                                 Accra, Ghana - Nairobi, Kenya    3  \n",
       "ACK             Nantucket, United States Of America - New York...    1  \n",
       "AGP                        London, United Kingdom - Malaga, Spain    1  \n",
       "...                                                           ...  ...  \n",
       "YWG                          Vancouver, Canada - Winnipeg, Canada    1  \n",
       "YYC                           Calgary, Canada - Vancouver, Canada    2  \n",
       "YYZ             New York, United States Of America - Toronto, ...    4  \n",
       "ZAG                      London, United Kingdom - Zagreb, Croatia    1  \n",
       "ZRH                     Geneva, Switzerland - Zurich, Switzerland    5  \n",
       "\n",
       "[301 rows x 4 columns]"
      ]
     },
     "execution_count": 38,
     "metadata": {},
     "output_type": "execute_result"
    }
   ],
   "source": [
    "df.groupby('Departure Code')['Normalised City Pair'].describe()"
   ]
  },
  {
   "cell_type": "code",
   "execution_count": 42,
   "metadata": {},
   "outputs": [],
   "source": [
    "for dep in df['Departure Code'].unique():\n",
    "    if df['Normalised City Pair'][df['Departure Code'] == dep].apply(lambda x: x.split('-')[0]).nunique():\n",
    "        print(dep)"
   ]
  },
  {
   "cell_type": "markdown",
   "metadata": {},
   "source": [
    "Each dep_code corresponds to exactly one departure part of norm_name"
   ]
  },
  {
   "cell_type": "code",
   "execution_count": 43,
   "metadata": {},
   "outputs": [],
   "source": [
    "for arr in df['Arrival Code'].unique():\n",
    "    if not df['Normalised City Pair'][df['Arrival Code'] == arr].apply(lambda x: x.split('-')[1]).nunique():\n",
    "        print(arr)"
   ]
  },
  {
   "cell_type": "markdown",
   "metadata": {},
   "source": [
    "Each arr_code corresponds to exactly one arrival part of norm_name"
   ]
  },
  {
   "cell_type": "code",
   "execution_count": 51,
   "metadata": {},
   "outputs": [
    {
     "data": {
      "text/plain": [
       "Departure Code\n",
       "ABQ    2\n",
       "ABZ    1\n",
       "ACC    4\n",
       "ACK    1\n",
       "AGP    1\n",
       "      ..\n",
       "YWG    1\n",
       "YYC    3\n",
       "YYZ    3\n",
       "ZAG    1\n",
       "ZRH    3\n",
       "Name: Departure_lat, Length: 301, dtype: int64"
      ]
     },
     "execution_count": 51,
     "metadata": {},
     "output_type": "execute_result"
    }
   ],
   "source": [
    "df.groupby('Departure Code')['Departure_lat'].nunique()"
   ]
  },
  {
   "cell_type": "code",
   "execution_count": 52,
   "metadata": {},
   "outputs": [
    {
     "data": {
      "text/plain": [
       "Departure Code\n",
       "ABQ    2\n",
       "ABZ    1\n",
       "ACC    4\n",
       "ACK    1\n",
       "AGP    1\n",
       "      ..\n",
       "YWG    1\n",
       "YYC    3\n",
       "YYZ    3\n",
       "ZAG    1\n",
       "ZRH    3\n",
       "Name: Departure_lon, Length: 301, dtype: int64"
      ]
     },
     "execution_count": 52,
     "metadata": {},
     "output_type": "execute_result"
    }
   ],
   "source": [
    "df.groupby('Departure Code')['Departure_lon'].nunique()"
   ]
  },
  {
   "cell_type": "markdown",
   "metadata": {},
   "source": [
    "...thats a pretty big error. A single departure code apparently can have multiple geographical locations."
   ]
  },
  {
   "cell_type": "code",
   "execution_count": 84,
   "metadata": {},
   "outputs": [
    {
     "data": {
      "text/html": [
       "<div>\n",
       "<style scoped>\n",
       "    .dataframe tbody tr th:only-of-type {\n",
       "        vertical-align: middle;\n",
       "    }\n",
       "\n",
       "    .dataframe tbody tr th {\n",
       "        vertical-align: top;\n",
       "    }\n",
       "\n",
       "    .dataframe thead th {\n",
       "        text-align: right;\n",
       "    }\n",
       "</style>\n",
       "<table border=\"1\" class=\"dataframe\">\n",
       "  <thead>\n",
       "    <tr style=\"text-align: right;\">\n",
       "      <th></th>\n",
       "      <th>Departure_lat</th>\n",
       "      <th>Departure_lon</th>\n",
       "    </tr>\n",
       "    <tr>\n",
       "      <th>Departure Code</th>\n",
       "      <th></th>\n",
       "      <th></th>\n",
       "    </tr>\n",
       "  </thead>\n",
       "  <tbody>\n",
       "    <tr>\n",
       "      <th>ABQ</th>\n",
       "      <td>3.323402</td>\n",
       "      <td>1.251579</td>\n",
       "    </tr>\n",
       "    <tr>\n",
       "      <th>ABZ</th>\n",
       "      <td>0.000000</td>\n",
       "      <td>0.000000</td>\n",
       "    </tr>\n",
       "    <tr>\n",
       "      <th>ACC</th>\n",
       "      <td>13.752243</td>\n",
       "      <td>37.670419</td>\n",
       "    </tr>\n",
       "    <tr>\n",
       "      <th>ACK</th>\n",
       "      <td>NaN</td>\n",
       "      <td>NaN</td>\n",
       "    </tr>\n",
       "    <tr>\n",
       "      <th>AGP</th>\n",
       "      <td>NaN</td>\n",
       "      <td>NaN</td>\n",
       "    </tr>\n",
       "    <tr>\n",
       "      <th>...</th>\n",
       "      <td>...</td>\n",
       "      <td>...</td>\n",
       "    </tr>\n",
       "    <tr>\n",
       "      <th>YWG</th>\n",
       "      <td>NaN</td>\n",
       "      <td>NaN</td>\n",
       "    </tr>\n",
       "    <tr>\n",
       "      <th>YYC</th>\n",
       "      <td>2.159317</td>\n",
       "      <td>11.406084</td>\n",
       "    </tr>\n",
       "    <tr>\n",
       "      <th>YYZ</th>\n",
       "      <td>2.217392</td>\n",
       "      <td>18.437658</td>\n",
       "    </tr>\n",
       "    <tr>\n",
       "      <th>ZAG</th>\n",
       "      <td>NaN</td>\n",
       "      <td>NaN</td>\n",
       "    </tr>\n",
       "    <tr>\n",
       "      <th>ZRH</th>\n",
       "      <td>1.103744</td>\n",
       "      <td>1.921800</td>\n",
       "    </tr>\n",
       "  </tbody>\n",
       "</table>\n",
       "<p>301 rows × 2 columns</p>\n",
       "</div>"
      ],
      "text/plain": [
       "                Departure_lat  Departure_lon\n",
       "Departure Code                              \n",
       "ABQ                  3.323402       1.251579\n",
       "ABZ                  0.000000       0.000000\n",
       "ACC                 13.752243      37.670419\n",
       "ACK                       NaN            NaN\n",
       "AGP                       NaN            NaN\n",
       "...                       ...            ...\n",
       "YWG                       NaN            NaN\n",
       "YYC                  2.159317      11.406084\n",
       "YYZ                  2.217392      18.437658\n",
       "ZAG                       NaN            NaN\n",
       "ZRH                  1.103744       1.921800\n",
       "\n",
       "[301 rows x 2 columns]"
      ]
     },
     "execution_count": 84,
     "metadata": {},
     "output_type": "execute_result"
    }
   ],
   "source": [
    "df.groupby('Departure Code').std()[['Departure_lat', 'Departure_lon']]"
   ]
  },
  {
   "cell_type": "code",
   "execution_count": 87,
   "metadata": {},
   "outputs": [
    {
     "data": {
      "text/plain": [
       "<AxesSubplot:ylabel='Departure Code'>"
      ]
     },
     "execution_count": 87,
     "metadata": {},
     "output_type": "execute_result"
    },
    {
     "data": {
      "image/png": "[encoded data removed]",
      "text/plain": [
       "<Figure size 432x288 with 2 Axes>"
      ]
     },
     "metadata": {
      "needs_background": "light"
     },
     "output_type": "display_data"
    }
   ],
   "source": [
    "sns.heatmap(df.groupby('Departure Code').std()[['Departure_lat', 'Departure_lon']].fillna(value=0))"
   ]
  },
  {
   "cell_type": "markdown",
   "metadata": {},
   "source": [
    "There is a lot of variance as to the geolocation of same departure airports."
   ]
  },
  {
   "cell_type": "code",
   "execution_count": 57,
   "metadata": {},
   "outputs": [
    {
     "data": {
      "text/html": [
       "<div>\n",
       "<style scoped>\n",
       "    .dataframe tbody tr th:only-of-type {\n",
       "        vertical-align: middle;\n",
       "    }\n",
       "\n",
       "    .dataframe tbody tr th {\n",
       "        vertical-align: top;\n",
       "    }\n",
       "\n",
       "    .dataframe thead th {\n",
       "        text-align: right;\n",
       "    }\n",
       "</style>\n",
       "<table border=\"1\" class=\"dataframe\">\n",
       "  <thead>\n",
       "    <tr style=\"text-align: right;\">\n",
       "      <th></th>\n",
       "      <th>Normalised City Pair</th>\n",
       "      <th>Departure Code</th>\n",
       "      <th>Arrival Code</th>\n",
       "      <th>Departure_lat</th>\n",
       "      <th>Departure_lon</th>\n",
       "      <th>Arrival_lat</th>\n",
       "      <th>Arrival_lon</th>\n",
       "    </tr>\n",
       "  </thead>\n",
       "  <tbody>\n",
       "    <tr>\n",
       "      <th>1606</th>\n",
       "      <td>Albuquerque, United States Of America - San Fr...</td>\n",
       "      <td>ABQ</td>\n",
       "      <td>SFO</td>\n",
       "      <td>39.8</td>\n",
       "      <td>-104.86</td>\n",
       "      <td>37.61</td>\n",
       "      <td>-122.39</td>\n",
       "    </tr>\n",
       "    <tr>\n",
       "      <th>2490</th>\n",
       "      <td>Albuquerque, United States Of America - Denver...</td>\n",
       "      <td>ABQ</td>\n",
       "      <td>DEN</td>\n",
       "      <td>35.1</td>\n",
       "      <td>-106.63</td>\n",
       "      <td>39.77</td>\n",
       "      <td>-104.86</td>\n",
       "    </tr>\n",
       "  </tbody>\n",
       "</table>\n",
       "</div>"
      ],
      "text/plain": [
       "                                   Normalised City Pair Departure Code  \\\n",
       "1606  Albuquerque, United States Of America - San Fr...            ABQ   \n",
       "2490  Albuquerque, United States Of America - Denver...            ABQ   \n",
       "\n",
       "     Arrival Code  Departure_lat  Departure_lon  Arrival_lat  Arrival_lon  \n",
       "1606          SFO           39.8        -104.86        37.61      -122.39  \n",
       "2490          DEN           35.1        -106.63        39.77      -104.86  "
      ]
     },
     "execution_count": 57,
     "metadata": {},
     "output_type": "execute_result"
    }
   ],
   "source": [
    "df[df['Departure Code'] == 'ABQ']"
   ]
  },
  {
   "cell_type": "code",
   "execution_count": 58,
   "metadata": {},
   "outputs": [
    {
     "data": {
      "text/html": [
       "<div>\n",
       "<style scoped>\n",
       "    .dataframe tbody tr th:only-of-type {\n",
       "        vertical-align: middle;\n",
       "    }\n",
       "\n",
       "    .dataframe tbody tr th {\n",
       "        vertical-align: top;\n",
       "    }\n",
       "\n",
       "    .dataframe thead th {\n",
       "        text-align: right;\n",
       "    }\n",
       "</style>\n",
       "<table border=\"1\" class=\"dataframe\">\n",
       "  <thead>\n",
       "    <tr style=\"text-align: right;\">\n",
       "      <th></th>\n",
       "      <th>Normalised City Pair</th>\n",
       "      <th>Departure Code</th>\n",
       "      <th>Arrival Code</th>\n",
       "      <th>Departure_lat</th>\n",
       "      <th>Departure_lon</th>\n",
       "      <th>Arrival_lat</th>\n",
       "      <th>Arrival_lon</th>\n",
       "    </tr>\n",
       "  </thead>\n",
       "  <tbody>\n",
       "    <tr>\n",
       "      <th>1778</th>\n",
       "      <td>Aberdeen, United Kingdom - London, United Kingdom</td>\n",
       "      <td>ABZ</td>\n",
       "      <td>LCY</td>\n",
       "      <td>57.2</td>\n",
       "      <td>-2.2</td>\n",
       "      <td>51.50</td>\n",
       "      <td>0.05</td>\n",
       "    </tr>\n",
       "    <tr>\n",
       "      <th>2078</th>\n",
       "      <td>Aberdeen, United Kingdom - London, United Kingdom</td>\n",
       "      <td>ABZ</td>\n",
       "      <td>LGW</td>\n",
       "      <td>57.2</td>\n",
       "      <td>-2.2</td>\n",
       "      <td>51.16</td>\n",
       "      <td>-0.16</td>\n",
       "    </tr>\n",
       "  </tbody>\n",
       "</table>\n",
       "</div>"
      ],
      "text/plain": [
       "                                   Normalised City Pair Departure Code  \\\n",
       "1778  Aberdeen, United Kingdom - London, United Kingdom            ABZ   \n",
       "2078  Aberdeen, United Kingdom - London, United Kingdom            ABZ   \n",
       "\n",
       "     Arrival Code  Departure_lat  Departure_lon  Arrival_lat  Arrival_lon  \n",
       "1778          LCY           57.2           -2.2        51.50         0.05  \n",
       "2078          LGW           57.2           -2.2        51.16        -0.16  "
      ]
     },
     "execution_count": 58,
     "metadata": {},
     "output_type": "execute_result"
    }
   ],
   "source": [
    "df[df['Departure Code'] == 'ABZ']"
   ]
  },
  {
   "cell_type": "markdown",
   "metadata": {},
   "source": [
    "If every dep_code had one possible set of coordinates then their std would be 0 or null for single entries. It is not the case. A clustermap can help visualise how much of the dataset is corrupted in that way."
   ]
  },
  {
   "cell_type": "code",
   "execution_count": 115,
   "metadata": {},
   "outputs": [
    {
     "data": {
      "text/plain": [
       "39.8671096345515"
      ]
     },
     "execution_count": 115,
     "metadata": {},
     "output_type": "execute_result"
    }
   ],
   "source": [
    "by_dep = df.groupby('Departure Code').std()[['Departure_lat', 'Departure_lon']].fillna(value=0)\n",
    "incorrect_codes = by_dep[(by_dep['Departure_lat'] != 0) | (by_dep['Departure_lon'] != 0)]\n",
    "100*incorrect_codes.shape[0]/by_dep.shape[0]"
   ]
  },
  {
   "cell_type": "markdown",
   "metadata": {},
   "source": [
    "It seems that around 40% of Departure codes are wrong. It can be further visualised by a clusterma below."
   ]
  },
  {
   "cell_type": "code",
   "execution_count": 92,
   "metadata": {},
   "outputs": [
    {
     "data": {
      "text/plain": [
       "<seaborn.matrix.ClusterGrid at 0x282bc63ed00>"
      ]
     },
     "execution_count": 92,
     "metadata": {},
     "output_type": "execute_result"
    },
    {
     "data": {
      "image/png": "[encoded data removed]",
      "text/plain": [
       "<Figure size 360x360 with 4 Axes>"
      ]
     },
     "metadata": {
      "needs_background": "light"
     },
     "output_type": "display_data"
    }
   ],
   "source": [
    "sns.clustermap(df.groupby('Departure Code').std()[['Departure_lat', 'Departure_lon']].fillna(value=0), figsize=(5,5))"
   ]
  },
  {
   "cell_type": "code",
   "execution_count": 120,
   "metadata": {},
   "outputs": [
    {
     "data": {
      "text/plain": [
       "85.8"
      ]
     },
     "execution_count": 120,
     "metadata": {},
     "output_type": "execute_result"
    }
   ],
   "source": [
    "no_incorrect_entries = df[df['Departure Code'].isin(incorrect_codes.index.tolist())].shape[0]\n",
    "100*no_incorrect_entries/df.shape[0]"
   ]
  },
  {
   "cell_type": "markdown",
   "metadata": {},
   "source": [
    "Unfortunately it seems that over 85% of the dataset contains those incorrect departurecode locations."
   ]
  },
  {
   "cell_type": "code",
   "execution_count": 82,
   "metadata": {},
   "outputs": [
    {
     "data": {
      "text/html": [
       "<div>\n",
       "<style scoped>\n",
       "    .dataframe tbody tr th:only-of-type {\n",
       "        vertical-align: middle;\n",
       "    }\n",
       "\n",
       "    .dataframe tbody tr th {\n",
       "        vertical-align: top;\n",
       "    }\n",
       "\n",
       "    .dataframe thead th {\n",
       "        text-align: right;\n",
       "    }\n",
       "</style>\n",
       "<table border=\"1\" class=\"dataframe\">\n",
       "  <thead>\n",
       "    <tr style=\"text-align: right;\">\n",
       "      <th></th>\n",
       "      <th>Arrival_lat</th>\n",
       "      <th>Arrival_lon</th>\n",
       "    </tr>\n",
       "    <tr>\n",
       "      <th>Arrival Code</th>\n",
       "      <th></th>\n",
       "      <th></th>\n",
       "    </tr>\n",
       "  </thead>\n",
       "  <tbody>\n",
       "    <tr>\n",
       "      <th>ABQ</th>\n",
       "      <td>0.0</td>\n",
       "      <td>0.0</td>\n",
       "    </tr>\n",
       "    <tr>\n",
       "      <th>ABV</th>\n",
       "      <td>0.0</td>\n",
       "      <td>0.0</td>\n",
       "    </tr>\n",
       "    <tr>\n",
       "      <th>ABZ</th>\n",
       "      <td>0.0</td>\n",
       "      <td>0.0</td>\n",
       "    </tr>\n",
       "    <tr>\n",
       "      <th>ACC</th>\n",
       "      <td>0.0</td>\n",
       "      <td>0.0</td>\n",
       "    </tr>\n",
       "    <tr>\n",
       "      <th>ADD</th>\n",
       "      <td>0.0</td>\n",
       "      <td>0.0</td>\n",
       "    </tr>\n",
       "    <tr>\n",
       "      <th>...</th>\n",
       "      <td>...</td>\n",
       "      <td>...</td>\n",
       "    </tr>\n",
       "    <tr>\n",
       "      <th>YYC</th>\n",
       "      <td>0.0</td>\n",
       "      <td>0.0</td>\n",
       "    </tr>\n",
       "    <tr>\n",
       "      <th>YYJ</th>\n",
       "      <td>NaN</td>\n",
       "      <td>NaN</td>\n",
       "    </tr>\n",
       "    <tr>\n",
       "      <th>YYZ</th>\n",
       "      <td>0.0</td>\n",
       "      <td>0.0</td>\n",
       "    </tr>\n",
       "    <tr>\n",
       "      <th>ZAG</th>\n",
       "      <td>NaN</td>\n",
       "      <td>NaN</td>\n",
       "    </tr>\n",
       "    <tr>\n",
       "      <th>ZRH</th>\n",
       "      <td>0.0</td>\n",
       "      <td>0.0</td>\n",
       "    </tr>\n",
       "  </tbody>\n",
       "</table>\n",
       "<p>341 rows × 2 columns</p>\n",
       "</div>"
      ],
      "text/plain": [
       "              Arrival_lat  Arrival_lon\n",
       "Arrival Code                          \n",
       "ABQ                   0.0          0.0\n",
       "ABV                   0.0          0.0\n",
       "ABZ                   0.0          0.0\n",
       "ACC                   0.0          0.0\n",
       "ADD                   0.0          0.0\n",
       "...                   ...          ...\n",
       "YYC                   0.0          0.0\n",
       "YYJ                   NaN          NaN\n",
       "YYZ                   0.0          0.0\n",
       "ZAG                   NaN          NaN\n",
       "ZRH                   0.0          0.0\n",
       "\n",
       "[341 rows x 2 columns]"
      ]
     },
     "execution_count": 82,
     "metadata": {},
     "output_type": "execute_result"
    }
   ],
   "source": [
    "df.groupby('Arrival Code').std()[['Arrival_lat', 'Arrival_lon']]"
   ]
  },
  {
   "cell_type": "code",
   "execution_count": 81,
   "metadata": {
    "scrolled": true
   },
   "outputs": [
    {
     "data": {
      "text/plain": [
       "<AxesSubplot:ylabel='Arrival Code'>"
      ]
     },
     "execution_count": 81,
     "metadata": {},
     "output_type": "execute_result"
    },
    {
     "data": {
      "image/png": "[encoded data removed]",
      "text/plain": [
       "<Figure size 432x288 with 2 Axes>"
      ]
     },
     "metadata": {
      "needs_background": "light"
     },
     "output_type": "display_data"
    }
   ],
   "source": [
    "sns.heatmap(df.groupby('Arrival Code').std()[['Arrival_lat', 'Arrival_lon']].fillna(value=0))"
   ]
  },
  {
   "cell_type": "code",
   "execution_count": 71,
   "metadata": {},
   "outputs": [
    {
     "data": {
      "text/plain": [
       "341"
      ]
     },
     "execution_count": 71,
     "metadata": {},
     "output_type": "execute_result"
    }
   ],
   "source": [
    "df.groupby('Arrival Code')['Arrival_lat'].nunique().size"
   ]
  },
  {
   "cell_type": "code",
   "execution_count": 72,
   "metadata": {},
   "outputs": [
    {
     "data": {
      "text/plain": [
       "341"
      ]
     },
     "execution_count": 72,
     "metadata": {},
     "output_type": "execute_result"
    }
   ],
   "source": [
    "df.groupby('Arrival Code')['Arrival_lon'].nunique().size"
   ]
  },
  {
   "cell_type": "code",
   "execution_count": 67,
   "metadata": {},
   "outputs": [
    {
     "data": {
      "text/plain": [
       "341"
      ]
     },
     "execution_count": 67,
     "metadata": {},
     "output_type": "execute_result"
    }
   ],
   "source": [
    "df['Arrival Code'].nunique()"
   ]
  },
  {
   "cell_type": "markdown",
   "metadata": {},
   "source": [
    "Each arrival code on the other hand does seem to correspond to single coordinate."
   ]
  },
  {
   "cell_type": "markdown",
   "metadata": {},
   "source": [
    "Summing up two problems are:\n",
    "1. 3 entries with flights starting and ending at the same airport however at different location,\n",
    "2. Over 85% of dataset consists of Departure codes which have inconsistent coordinates. Some of them might be correct but there is no way of telling that just from the dataset."
   ]
  },
  {
   "cell_type": "markdown",
   "metadata": {},
   "source": [
    "Taking that information under consideration, calculating end-to-end distances won't result in realistic data. For the sake of the excercise I will do that anyway."
   ]
  },
  {
   "cell_type": "markdown",
   "metadata": {},
   "source": [
    "Methods for calculating geo dist:\n",
    "1. Haversine formula  (great-circle dist, earth as a perfect sphere)\n",
    "2. geodesic dist, ellipsoidal earth"
   ]
  },
  {
   "cell_type": "code",
   "execution_count": 122,
   "metadata": {},
   "outputs": [],
   "source": [
    "import math"
   ]
  },
  {
   "cell_type": "code",
   "execution_count": 137,
   "metadata": {},
   "outputs": [],
   "source": [
    "def haversine(coord1, coord2):\n",
    "    R = 6371  # Earth radius in km\n",
    "    lat1, lon1 = coord1\n",
    "    lat2, lon2 = coord2\n",
    "    \n",
    "    phi1, phi2 = math.radians(lat1), math.radians(lat2) \n",
    "    dphi       = math.radians(lat2 - lat1)\n",
    "    dlambda    = math.radians(lon2 - lon1)\n",
    "    \n",
    "    a = math.sin(dphi/2)**2 + math.cos(phi1) * math.cos(phi2) * math.sin(dlambda/2)**2\n",
    "    \n",
    "    return 2 * R * math.atan2(math.sqrt(a), math.sqrt(1 - a))"
   ]
  },
  {
   "cell_type": "code",
   "execution_count": 131,
   "metadata": {},
   "outputs": [],
   "source": [
    "from geopy import distance"
   ]
  },
  {
   "cell_type": "code",
   "execution_count": 151,
   "metadata": {},
   "outputs": [
    {
     "data": {
      "text/plain": [
       "279.35"
      ]
     },
     "execution_count": 151,
     "metadata": {},
     "output_type": "execute_result"
    }
   ],
   "source": [
    "coords_1 = (52.2296756, 21.0122287)\n",
    "coords_2 = (52.406374, 16.9251681)\n",
    "\n",
    "round(distance.geodesic(coords_1, coords_2).km,2)"
   ]
  },
  {
   "cell_type": "code",
   "execution_count": 141,
   "metadata": {},
   "outputs": [
    {
     "data": {
      "text/plain": [
       "278.45817507541943"
      ]
     },
     "execution_count": 141,
     "metadata": {},
     "output_type": "execute_result"
    }
   ],
   "source": [
    "haversine(coords_1, coords_2)"
   ]
  },
  {
   "cell_type": "code",
   "execution_count": 142,
   "metadata": {},
   "outputs": [
    {
     "data": {
      "text/html": [
       "<div>\n",
       "<style scoped>\n",
       "    .dataframe tbody tr th:only-of-type {\n",
       "        vertical-align: middle;\n",
       "    }\n",
       "\n",
       "    .dataframe tbody tr th {\n",
       "        vertical-align: top;\n",
       "    }\n",
       "\n",
       "    .dataframe thead th {\n",
       "        text-align: right;\n",
       "    }\n",
       "</style>\n",
       "<table border=\"1\" class=\"dataframe\">\n",
       "  <thead>\n",
       "    <tr style=\"text-align: right;\">\n",
       "      <th></th>\n",
       "      <th>Normalised City Pair</th>\n",
       "      <th>Departure Code</th>\n",
       "      <th>Arrival Code</th>\n",
       "      <th>Departure_lat</th>\n",
       "      <th>Departure_lon</th>\n",
       "      <th>Arrival_lat</th>\n",
       "      <th>Arrival_lon</th>\n",
       "    </tr>\n",
       "  </thead>\n",
       "  <tbody>\n",
       "    <tr>\n",
       "      <th>0</th>\n",
       "      <td>London, United Kingdom - New York, United Stat...</td>\n",
       "      <td>LHR</td>\n",
       "      <td>JFK</td>\n",
       "      <td>51.5</td>\n",
       "      <td>-0.45</td>\n",
       "      <td>40.64</td>\n",
       "      <td>-73.79</td>\n",
       "    </tr>\n",
       "    <tr>\n",
       "      <th>1</th>\n",
       "      <td>Johannesburg, South Africa - London, United Ki...</td>\n",
       "      <td>JNB</td>\n",
       "      <td>LHR</td>\n",
       "      <td>-26.1</td>\n",
       "      <td>28.23</td>\n",
       "      <td>51.47</td>\n",
       "      <td>-0.45</td>\n",
       "    </tr>\n",
       "    <tr>\n",
       "      <th>2</th>\n",
       "      <td>London, United Kingdom - New York, United Stat...</td>\n",
       "      <td>LHR</td>\n",
       "      <td>JFK</td>\n",
       "      <td>51.5</td>\n",
       "      <td>-0.45</td>\n",
       "      <td>40.64</td>\n",
       "      <td>-73.79</td>\n",
       "    </tr>\n",
       "    <tr>\n",
       "      <th>3</th>\n",
       "      <td>Johannesburg, South Africa - London, United Ki...</td>\n",
       "      <td>JNB</td>\n",
       "      <td>LHR</td>\n",
       "      <td>-26.1</td>\n",
       "      <td>28.23</td>\n",
       "      <td>51.47</td>\n",
       "      <td>-0.45</td>\n",
       "    </tr>\n",
       "    <tr>\n",
       "      <th>4</th>\n",
       "      <td>London, United Kingdom - Singapore, Singapore</td>\n",
       "      <td>SIN</td>\n",
       "      <td>LHR</td>\n",
       "      <td>1.3</td>\n",
       "      <td>103.98</td>\n",
       "      <td>51.47</td>\n",
       "      <td>-0.45</td>\n",
       "    </tr>\n",
       "  </tbody>\n",
       "</table>\n",
       "</div>"
      ],
      "text/plain": [
       "                                Normalised City Pair Departure Code  \\\n",
       "0  London, United Kingdom - New York, United Stat...            LHR   \n",
       "1  Johannesburg, South Africa - London, United Ki...            JNB   \n",
       "2  London, United Kingdom - New York, United Stat...            LHR   \n",
       "3  Johannesburg, South Africa - London, United Ki...            JNB   \n",
       "4      London, United Kingdom - Singapore, Singapore            SIN   \n",
       "\n",
       "  Arrival Code  Departure_lat  Departure_lon  Arrival_lat  Arrival_lon  \n",
       "0          JFK           51.5          -0.45        40.64       -73.79  \n",
       "1          LHR          -26.1          28.23        51.47        -0.45  \n",
       "2          JFK           51.5          -0.45        40.64       -73.79  \n",
       "3          LHR          -26.1          28.23        51.47        -0.45  \n",
       "4          LHR            1.3         103.98        51.47        -0.45  "
      ]
     },
     "execution_count": 142,
     "metadata": {},
     "output_type": "execute_result"
    }
   ],
   "source": [
    "df.head()"
   ]
  },
  {
   "cell_type": "code",
   "execution_count": 152,
   "metadata": {},
   "outputs": [],
   "source": [
    "def dist(lat1, lon1, lat2, lon2):\n",
    "    coord1 = (lat1, lon1)\n",
    "    coord2 = (lat2, lon2)\n",
    "    #return haversine(coord1, coord2)\n",
    "    return round(distance.geodesic(coord1, coord2).km, 2)"
   ]
  },
  {
   "cell_type": "code",
   "execution_count": 153,
   "metadata": {},
   "outputs": [],
   "source": [
    "df['Distance'] = df.apply(lambda x: dist(x['Departure_lat'], x['Departure_lon'], x['Arrival_lat'], x['Arrival_lon']), axis=1)"
   ]
  },
  {
   "cell_type": "code",
   "execution_count": 155,
   "metadata": {},
   "outputs": [
    {
     "data": {
      "text/html": [
       "<div>\n",
       "<style scoped>\n",
       "    .dataframe tbody tr th:only-of-type {\n",
       "        vertical-align: middle;\n",
       "    }\n",
       "\n",
       "    .dataframe tbody tr th {\n",
       "        vertical-align: top;\n",
       "    }\n",
       "\n",
       "    .dataframe thead th {\n",
       "        text-align: right;\n",
       "    }\n",
       "</style>\n",
       "<table border=\"1\" class=\"dataframe\">\n",
       "  <thead>\n",
       "    <tr style=\"text-align: right;\">\n",
       "      <th></th>\n",
       "      <th>Normalised City Pair</th>\n",
       "      <th>Departure Code</th>\n",
       "      <th>Arrival Code</th>\n",
       "      <th>Departure_lat</th>\n",
       "      <th>Departure_lon</th>\n",
       "      <th>Arrival_lat</th>\n",
       "      <th>Arrival_lon</th>\n",
       "      <th>Distance</th>\n",
       "    </tr>\n",
       "  </thead>\n",
       "  <tbody>\n",
       "    <tr>\n",
       "      <th>0</th>\n",
       "      <td>London, United Kingdom - New York, United Stat...</td>\n",
       "      <td>LHR</td>\n",
       "      <td>JFK</td>\n",
       "      <td>51.5</td>\n",
       "      <td>-0.45</td>\n",
       "      <td>40.64</td>\n",
       "      <td>-73.79</td>\n",
       "      <td>5555.04</td>\n",
       "    </tr>\n",
       "    <tr>\n",
       "      <th>1</th>\n",
       "      <td>Johannesburg, South Africa - London, United Ki...</td>\n",
       "      <td>JNB</td>\n",
       "      <td>LHR</td>\n",
       "      <td>-26.1</td>\n",
       "      <td>28.23</td>\n",
       "      <td>51.47</td>\n",
       "      <td>-0.45</td>\n",
       "      <td>9040.01</td>\n",
       "    </tr>\n",
       "    <tr>\n",
       "      <th>2</th>\n",
       "      <td>London, United Kingdom - New York, United Stat...</td>\n",
       "      <td>LHR</td>\n",
       "      <td>JFK</td>\n",
       "      <td>51.5</td>\n",
       "      <td>-0.45</td>\n",
       "      <td>40.64</td>\n",
       "      <td>-73.79</td>\n",
       "      <td>5555.04</td>\n",
       "    </tr>\n",
       "    <tr>\n",
       "      <th>3</th>\n",
       "      <td>Johannesburg, South Africa - London, United Ki...</td>\n",
       "      <td>JNB</td>\n",
       "      <td>LHR</td>\n",
       "      <td>-26.1</td>\n",
       "      <td>28.23</td>\n",
       "      <td>51.47</td>\n",
       "      <td>-0.45</td>\n",
       "      <td>9040.01</td>\n",
       "    </tr>\n",
       "    <tr>\n",
       "      <th>4</th>\n",
       "      <td>London, United Kingdom - Singapore, Singapore</td>\n",
       "      <td>SIN</td>\n",
       "      <td>LHR</td>\n",
       "      <td>1.3</td>\n",
       "      <td>103.98</td>\n",
       "      <td>51.47</td>\n",
       "      <td>-0.45</td>\n",
       "      <td>10890.57</td>\n",
       "    </tr>\n",
       "  </tbody>\n",
       "</table>\n",
       "</div>"
      ],
      "text/plain": [
       "                                Normalised City Pair Departure Code  \\\n",
       "0  London, United Kingdom - New York, United Stat...            LHR   \n",
       "1  Johannesburg, South Africa - London, United Ki...            JNB   \n",
       "2  London, United Kingdom - New York, United Stat...            LHR   \n",
       "3  Johannesburg, South Africa - London, United Ki...            JNB   \n",
       "4      London, United Kingdom - Singapore, Singapore            SIN   \n",
       "\n",
       "  Arrival Code  Departure_lat  Departure_lon  Arrival_lat  Arrival_lon  \\\n",
       "0          JFK           51.5          -0.45        40.64       -73.79   \n",
       "1          LHR          -26.1          28.23        51.47        -0.45   \n",
       "2          JFK           51.5          -0.45        40.64       -73.79   \n",
       "3          LHR          -26.1          28.23        51.47        -0.45   \n",
       "4          LHR            1.3         103.98        51.47        -0.45   \n",
       "\n",
       "   Distance  \n",
       "0   5555.04  \n",
       "1   9040.01  \n",
       "2   5555.04  \n",
       "3   9040.01  \n",
       "4  10890.57  "
      ]
     },
     "execution_count": 155,
     "metadata": {},
     "output_type": "execute_result"
    }
   ],
   "source": [
    "df.head()"
   ]
  },
  {
   "cell_type": "markdown",
   "metadata": {},
   "source": [
    "Thats seem to be it. However, like I mentioned before those results are mostly unrealistic because of the inconsistency in geolocation of some airport."
   ]
  },
  {
   "cell_type": "code",
   "execution_count": 174,
   "metadata": {},
   "outputs": [
    {
     "data": {
      "text/plain": [
       "17014.67"
      ]
     },
     "execution_count": 174,
     "metadata": {},
     "output_type": "execute_result"
    }
   ],
   "source": [
    "df['Distance'].max()"
   ]
  },
  {
   "cell_type": "code",
   "execution_count": 175,
   "metadata": {},
   "outputs": [
    {
     "data": {
      "text/plain": [
       "17.25"
      ]
     },
     "execution_count": 175,
     "metadata": {},
     "output_type": "execute_result"
    }
   ],
   "source": [
    "df['Distance'].min()"
   ]
  }
 ],
 "metadata": {
  "kernelspec": {
   "display_name": "Python 3",
   "language": "python",
   "name": "python3"
  },
  "language_info": {
   "codemirror_mode": {
    "name": "ipython",
    "version": 3
   },
   "file_extension": ".py",
   "mimetype": "text/x-python",
   "name": "python",
   "nbconvert_exporter": "python",
   "pygments_lexer": "ipython3",
   "version": "3.8.5"
  }
 },
 "nbformat": 4,
 "nbformat_minor": 4
}
